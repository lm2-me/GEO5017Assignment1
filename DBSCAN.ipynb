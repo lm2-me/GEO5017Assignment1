{
 "cells": [
  {
   "cell_type": "markdown",
   "metadata": {},
   "source": [
    "# DBSCAN"
   ]
  },
  {
   "cell_type": "code",
   "execution_count": null,
   "metadata": {},
   "outputs": [],
   "source": [
    "\"\"\"We make a 1D cluster results list which is formed by \n",
    "0 = noise\n",
    "1 = border\n",
    "2+ = cluster number,\n",
    "\n",
    "or can we assign negatives?\n",
    "-1 and -2, for noise and border?\n",
    "\"\"\""
   ]
  },
  {
   "cell_type": "code",
   "execution_count": 114,
   "metadata": {},
   "outputs": [
    {
     "data": {
      "image/png": "[encoded data removed]",
      "text/plain": [
       "<Figure size 432x288 with 1 Axes>"
      ]
     },
     "metadata": {
      "needs_background": "light"
     },
     "output_type": "display_data"
    }
   ],
   "source": [
    "import numpy as np\n",
    "import math\n",
    "import random\n",
    "import matplotlib.pyplot as plt\n",
    "\n",
    "\n",
    "pointcloudsdummy = np.random.randn(300).reshape((100,3))\n",
    "\n",
    "\n",
    "def check_if_core_point(data, feature1, feature2, eps, minPts, ptIndex):\n",
    "    #dataConsidered = data[:,[feature1, feature2]]\n",
    "\n",
    "    #temp_dist = float('inf')\n",
    "\n",
    "    x, y = data[ptIndex,[feature1,feature2]]\n",
    "\n",
    "    #print(\"this is x and y\", x, y)\n",
    "\n",
    "    temp = np.empty(1)\n",
    "    # temp = np.array([1])\n",
    "    #first below is a failed list comprehension. I ended up using a for loop instead.\n",
    "    #temp = np.append(temp, (do for i, item in enumerate(data[:,[feature1,feature2]]) if math.sqrt((x-item[0])**2 + (y-item[1])**2) <= eps and i != ptIndex))\n",
    "    for i, item in enumerate(data[:,[feature1,feature2]]):\n",
    "        if math.sqrt((x-item[0])**2 + (y-item[1])**2) <= eps and i != ptIndex:\n",
    "            temp = np.append(temp, i)\n",
    "\n",
    "    \n",
    "    temp = np.delete(temp, 0) # this deletes the first item that is erroneously created when making an 'empty' array\n",
    "    #print(\"this is temp: \", temp)\n",
    "\n",
    "    if len(temp) >= minPts:\n",
    "        # it's a core points\n",
    "        return temp, 1\n",
    "    elif (len(temp) < minPts) and len(temp) > 0:\n",
    "        # it's a border point\n",
    "        return temp, -1\n",
    "    elif len(temp) == 0:\n",
    "        # it's a noise point\n",
    "        return temp, -2\n",
    "    else:\n",
    "        print(\"Failed to categorise point\")\n",
    "    \n",
    "    \"\"\" 1 = core, -1 = border, -2 = noise\"\"\"\n",
    "\n",
    "\n",
    "#print(check_if_core_point(pointcloudsdummy, 0, 1, 10, 8, 7))\n",
    "\n",
    "\n",
    "# loop to go through each point on the lists\n",
    "\n",
    "def dbscan(data, feature1, feature2, eps, minPts):\n",
    "\n",
    "    dataConsidered = data[:,[feature1,feature2]]\n",
    "    # start cluster C number\n",
    "    C = 1\n",
    "    # initialising stacks to maintain\n",
    "    current_Stack = set()\n",
    "    unvisited = list(range(0,len(data)))\n",
    "    clusters = np.zeros(len(data))\n",
    "\n",
    "    while (len(unvisited) != 0): #this will run until all points  have been assessed\n",
    "\n",
    "        first_point = True\n",
    "\n",
    "        current_Stack.add(random.choice(unvisited))\n",
    "\n",
    "        \n",
    "        while len(current_Stack) != 0: #run until this cluster is  done\n",
    "            \n",
    "            #remove current point from stack to keep clean\n",
    "            curr_index = int(current_Stack.pop())\n",
    "\n",
    "            #check if core, border or noise\n",
    "            \"\"\" 1 = core, -1 = border, -2 = noise\"\"\"\n",
    "            neighbour_points, point_status = check_if_core_point(data, feature1, feature2, eps, minPts, curr_index)\n",
    "\n",
    "            # print(\"this is list of unvisited: \", unvisited)\n",
    "            # print(\"these are neighbour points: \", neighbour_points)\n",
    "            # print(\"this is set checked for unvisited: \", set(neighbour_points) & set(unvisited))\n",
    "\n",
    "\n",
    "                        #consider only neighbour points not visited already\n",
    "            neighbour_points = set(neighbour_points) & set(unvisited)\n",
    "\n",
    "            # edge case of first point being a border point, assignn to noise\n",
    "            if ((point_status == -1) and first_point):\n",
    "                #label point and neighbours as noise\n",
    "                clusters[curr_index] = 0\n",
    "                unvisited.remove(curr_index)\n",
    "                for i in  neighbour_points:\n",
    "                    # print(\"in loop, this is i: \", i)\n",
    "                    clusters[int(i)] = 0\n",
    "                    unvisited.remove(i)\n",
    "                \n",
    "                continue\n",
    "            \n",
    "\n",
    "            unvisited.remove(curr_index) # remove from unvisited list\n",
    "\n",
    "            #print(\"this is set of unvisited: \", set(unvisited))\n",
    "\n",
    "\n",
    "\n",
    "\n",
    "            if point_status == 1: #is a core point\n",
    "                first_point = False\n",
    "                clusters[curr_index] = C #assign cluster number\n",
    "                current_Stack.update(neighbour_points)\n",
    "            \n",
    "            elif point_status == -1: #is border\n",
    "                clusters[curr_index] = C #assign to cluster\n",
    "                continue\n",
    "\n",
    "            elif point_status == -2: #is noise\n",
    "                clusters[curr_index] = 0\n",
    "                continue\n",
    "\n",
    "        if not first_point:\n",
    "            #increment to next cluster\n",
    "            C += 1\n",
    "    \n",
    "    return clusters, dataConsidered\n",
    "\n",
    "\n",
    "\n",
    "                \n",
    "\n",
    "\n",
    "    #turn list into np array?\n",
    "    #clusters = np.array(clusters)\n",
    "\n",
    "\n",
    "clusters, dataConsidered = dbscan(pointcloudsdummy, 1, 0, 0.3, 2)\n",
    "\n",
    "plot_dbscan(clusters, dataConsidered)\n",
    "\n",
    "    \n"
   ]
  },
  {
   "cell_type": "code",
   "execution_count": 93,
   "metadata": {},
   "outputs": [
    {
     "data": {
      "image/png": "[encoded data removed]",
      "text/plain": [
       "<Figure size 432x288 with 1 Axes>"
      ]
     },
     "metadata": {
      "needs_background": "light"
     },
     "output_type": "display_data"
    }
   ],
   "source": [
    "#Plot graphs\n",
    "def plot_dbscan(clustergroup_new, dataConsidered):\n",
    "    #Getting the Centroids\n",
    "    u_labels = np.unique(clustergroup_new)\n",
    "\n",
    "    # #plotting the results:\n",
    "    for p in u_labels:\n",
    "        plt.scatter(dataConsidered[clustergroup_new == p , 0] , dataConsidered[clustergroup_new == p , 1] , label = p)\n",
    "    #plt.scatter(centroids[:,0] , centroids[:,1] , s = 80, color = \"black\") # only for centroids\n",
    "    plt.legend()\n",
    "    plt.show()\n",
    "\n",
    "plot_dbscan(clusters, dataConsidered)"
   ]
  }
 ],
 "metadata": {
  "interpreter": {
   "hash": "7c992ca41adb03077bcb72666d8178805f4948a0859095a1f8511e34036f055e"
  },
  "kernelspec": {
   "display_name": "Python 3.8.12",
   "language": "python",
   "name": "python3"
  },
  "language_info": {
   "name": "python",
   "version": "3.8.12"
  },
  "orig_nbformat": 4
 },
 "nbformat": 4,
 "nbformat_minor": 2
}
