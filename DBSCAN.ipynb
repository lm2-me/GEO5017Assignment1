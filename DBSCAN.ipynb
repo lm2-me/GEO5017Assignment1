{
 "cells": [
  {
   "cell_type": "markdown",
   "metadata": {},
   "source": [
    "# DBSCAN"
   ]
  },
  {
   "cell_type": "code",
   "execution_count": null,
   "metadata": {},
   "outputs": [],
   "source": [
    "\"\"\"We make a 1D cluster results list which is formed by \n",
    "0 = noise\n",
    "1 = border\n",
    "2+ = cluster number,\n",
    "\n",
    "or can we assign negatives?\n",
    "-1 and -2, for noise and border?\n",
    "\"\"\""
   ]
  },
  {
   "cell_type": "code",
   "execution_count": 50,
   "metadata": {},
   "outputs": [
    {
     "name": "stdout",
     "output_type": "stream",
     "text": [
      "this is x and y 54 344\n",
      "this is temp:  []\n",
      "-2\n"
     ]
    }
   ],
   "source": [
    "import numpy as np\n",
    "import math\n",
    "\n",
    "\n",
    "pointcloudsdummy = np.random.randint(0,500,300).reshape((100,3))\n",
    "\n",
    "\n",
    "def check_if_core_point(data, feature1, feature2, eps, minPts, ptIndex):\n",
    "    #dataConsidered = data[:,[feature1, feature2]]\n",
    "\n",
    "    #temp_dist = float('inf')\n",
    "\n",
    "    x, y = data[ptIndex,[feature1,feature2]]\n",
    "\n",
    "    print(\"this is x and y\", x, y)\n",
    "\n",
    "    temp = np.empty(1)\n",
    "    # temp = np.array([1])\n",
    "    #first below is a failed list comprehension. I ended up using a for loop instead.\n",
    "    #temp = np.append(temp, (do for i, item in enumerate(data[:,[feature1,feature2]]) if math.sqrt((x-item[0])**2 + (y-item[1])**2) <= eps and i != ptIndex))\n",
    "    for i, item in enumerate(data[:,[feature1,feature2]]):\n",
    "        if math.sqrt((x-item[0])**2 + (y-item[1])**2) <= eps and i != ptIndex:\n",
    "            temp = np.append(temp, i)\n",
    "    \n",
    "    temp = np.delete(temp, 0) # this deletes the first item that is erroneously created when making an 'empty' array\n",
    "    print(\"this is temp: \", temp)\n",
    "\n",
    "    if len(temp) >= minPts:\n",
    "        # it's a core points\n",
    "        return 1\n",
    "    elif (len(temp) < minPts) and len(temp) > 0:\n",
    "        # it's a border point\n",
    "        return -1\n",
    "    elif len(temp) == 0:\n",
    "        # it's a noise point\n",
    "        return -2\n",
    "    else:\n",
    "        print(\"Failed to categorise point\")\n",
    "\n",
    "\n",
    "print(check_if_core_point(pointcloudsdummy, 0, 1, 10, 8, 7))\n",
    "\n",
    "\n",
    "# loop to go through each point on the lists\n",
    "\n",
    "def dbscan(data, feature1, feature2, eps, minPts):\n",
    "\n"
   ]
  }
 ],
 "metadata": {
  "interpreter": {
   "hash": "7c992ca41adb03077bcb72666d8178805f4948a0859095a1f8511e34036f055e"
  },
  "kernelspec": {
   "display_name": "Python 3.8.12",
   "language": "python",
   "name": "python3"
  },
  "language_info": {
   "codemirror_mode": {
    "name": "ipython",
    "version": 3
   },
   "file_extension": ".py",
   "mimetype": "text/x-python",
   "name": "python",
   "nbconvert_exporter": "python",
   "pygments_lexer": "ipython3",
   "version": "3.8.12"
  },
  "orig_nbformat": 4
 },
 "nbformat": 4,
 "nbformat_minor": 2
}
