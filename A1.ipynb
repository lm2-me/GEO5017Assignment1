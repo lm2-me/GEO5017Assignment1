{
 "cells": [
  {
   "cell_type": "markdown",
   "metadata": {},
   "source": [
    "Github\n",
    "git status, git add ., git commit -m \"comment about update\", git push. --> git pull"
   ]
  },
  {
   "cell_type": "markdown",
   "metadata": {},
   "source": [
    "### Imports point clouds"
   ]
  },
  {
   "cell_type": "code",
   "execution_count": null,
   "metadata": {},
   "outputs": [],
   "source": [
    "#Import Point Cloud\n",
    "import pandas as pd\n",
    "import numpy as np\n",
    "print(\"start program for importing files\")\n",
    "\n",
    "import os\n",
    "\n",
    "\n",
    "cwd = os.getcwd() # get current directory of file\n",
    "filewd = (cwd) # tuple to lock original folder location when changing directory\n",
    "# print(\"this is cwd: \", cwd) # check\n",
    "# print(\"this is filewd: \", filewd) # check\n",
    "\n",
    "pointcloudFolder = filewd + \"\\pointclouds\"\n",
    "#print(pointcloudFolder) #To check\n",
    "\n",
    "os.chdir(pointcloudFolder)\n",
    "print(\"new directory changed to : {0}\".format(os.getcwd()))"
   ]
  },
  {
   "cell_type": "code",
   "execution_count": null,
   "metadata": {},
   "outputs": [],
   "source": [
    "d = {}\n",
    "\"\"\"the list of point clouds are being put in a dictionary as numpy arrays - not sure if this is the best.\n",
    "I also considered Pandas. Also wasn't sure whether a list of list would be annoying.\n",
    "This way we can call them specificaly by name, so that might be the easiest when iterating through them.\n",
    "\"\"\"\n",
    "\n",
    "for i in range(500):\n",
    "    # print(i)\n",
    "    number = \"00\" + str(i)\n",
    "    three_digit = number[-3:]\n",
    "    open_array = np.genfromtxt(\"{0}.xyz\".format(three_digit))\n",
    "    d[\"pc{0}\".format(three_digit)] = open_array\n",
    "\n",
    "print(d[\"pc385\"])"
   ]
  },
  {
   "cell_type": "markdown",
   "metadata": {},
   "source": [
    "With this type of notebook you can execute cells individually. So above, I split the cell, so changing directory is in one and loading pointclouds is in another. But I can see you use a lot more definitions, which I guess you just call them. Which makes sense, but is a different way of going about it."
   ]
  },
  {
   "cell_type": "code",
   "execution_count": null,
   "metadata": {},
   "outputs": [],
   "source": [
    "#Get object height for each point cloud height\n",
    "def allObjectProperties(pointCloudDirectory):\n",
    "    for file in pointCloudDirectory:\n",
    "        #read file\n",
    "        #assign data from current file to currentPointCloud variable\n",
    "        currentPointCloud = [[1,4,8], [3,9,5], [2,2,7]]\n",
    "        height = objectHeight(currentPointCloud)\n",
    "        bBox = boundingBox(currentPointCloud, height)\n",
    "\n",
    "#Get feature 1: Height\n",
    "def objectHeight(currentPointCloud):\n",
    "    maxZ = 0\n",
    "    length = len(currentPointCloud)\n",
    "\n",
    "    for point in currentPointCloud:\n",
    "        if point[2] > maxZ:\n",
    "            maxZ = point[2]\n",
    "        #maxZ now largest Z\n",
    "\n",
    "    height = maxZ\n",
    "    print(height)\n",
    "    return height\n",
    "\n",
    "#Create Bounding Box\n",
    "def boundingBox(currentPointCloud, height):\n",
    "    maxX = 0\n",
    "    minX = 100\n",
    "    maxY = 0\n",
    "    minY = 100\n",
    "\n",
    "    for point in currentPointCloud:\n",
    "        if point[0] < minX:\n",
    "            minX = point[0]\n",
    "        if point[0] > maxX:\n",
    "            maxX = point[0]\n",
    "        if point[1] < minY:\n",
    "            minY = point[1]\n",
    "        if point[1] > maxY:\n",
    "            maxY = point[1]\n",
    "        #minX, minY, maxX, maxY now defined\n",
    "    \n",
    "    minCorner = (minX, minY, 0)\n",
    "    maxCorner = (maxX, maxY, height)\n",
    "\n",
    "    bBox = (minCorner, maxCorner)\n",
    "    \n",
    "    print(bBox)\n",
    "    return bBox\n",
    "\n",
    "#Get feature 2: Vertical Slices\n",
    "\n",
    "\n",
    "#Get feature 3\n",
    "\n",
    "#store feature data\n",
    "\n",
    "#plot features against each other\n",
    "\n",
    "#implement clustering\n",
    "\n",
    "#Main\n",
    "if __name__ == \"__main__\":\n",
    "    #function importing point clouds\n",
    "    # assign to pointCloudDirectory variable \n",
    "    pointCloudDirectory = [\" \"]\n",
    "    allObjectProperties(pointCloudDirectory)"
   ]
  },
  {
   "cell_type": "code",
   "execution_count": 12,
   "metadata": {},
   "outputs": [],
   "source": [
    "#K-Means implementation\n",
    "import numpy as np\n",
    "\n",
    "#implement a seed?\n",
    "\n",
    "# start positions\n",
    "'''\n",
    "xmin = feature1.min() # or assume normalised data? 0-1\n",
    "xmax = feature1.max()\n",
    "ymin = feature2.min()\n",
    "ymax = feature2.max()\n",
    "'''\n",
    "\n",
    "\n",
    "\n",
    "# def distEuclidian()\n",
    "\n",
    "#loop\n",
    "#compute closest\n",
    "def kMeans(k, feature1, feature2, rounds=10):\n",
    "    # Pick K points\n",
    "    #start points\n",
    "    cluster_starts = np.random.uniform(0,1, (k, 2))\n",
    "\n",
    "    clustergroup = []\n",
    "    #loop this\n",
    "    for point in range(0,len(feature1)):\n",
    "        #compute nearest cluster\n",
    "        for cluster_point in cluster_starts:\n",
    "            #clustergroup[] = cluster_point --no, wrong\n",
    "\n",
    "\n",
    "    #dictionary where each is has number of cluster, 000: 1, 001:3, 002: 3, etc\n",
    "\n",
    "\n",
    "#compute centroids\n",
    "\n",
    "#move K;s to centroids\n",
    "\n",
    "#repeat\n"
   ]
  },
  {
   "cell_type": "code",
   "execution_count": null,
   "metadata": {},
   "outputs": [],
   "source": []
  }
 ],
 "metadata": {
  "interpreter": {
   "hash": "ecf5722fdaf1897a315d257d89d94520bfcaa453217d5becf09b39e73618b0de"
  },
  "kernelspec": {
   "display_name": "Python 3.9.5 ('base')",
   "language": "python",
   "name": "python3"
  },
  "language_info": {
   "codemirror_mode": {
    "name": "ipython",
    "version": 3
   },
   "file_extension": ".py",
   "mimetype": "text/x-python",
   "name": "python",
   "nbconvert_exporter": "python",
   "pygments_lexer": "ipython3",
   "version": "3.9.5"
  },
  "orig_nbformat": 4
 },
 "nbformat": 4,
 "nbformat_minor": 2
}
